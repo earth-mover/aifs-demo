{
 "cells": [
  {
   "cell_type": "markdown",
   "id": "69b55d45-1643-4e6f-86cf-e0413ef97c28",
   "metadata": {},
   "source": [
    "Adapted from https://huggingface.co/ecmwf/aifs-single-1.0/blob/main/run_AIFS_v1.ipynb"
   ]
  },
  {
   "cell_type": "code",
   "execution_count": null,
   "id": "5c93002e-1967-4276-b563-73ef394daf1e",
   "metadata": {},
   "outputs": [],
   "source": [
    "import datetime\n",
    "from collections import defaultdict\n",
    "\n",
    "import numpy as np\n",
    "import earthkit.data as ekd\n",
    "import earthkit.regrid as ekr\n",
    "\n",
    "from anemoi.inference.runners.simple import SimpleRunner\n",
    "from anemoi.inference.outputs.printer import print_state\n",
    "\n",
    "from ecmwf.opendata import Client as OpendataClient"
   ]
  },
  {
   "cell_type": "code",
   "execution_count": null,
   "id": "b0c6b5c4-ec91-410d-988e-c55a702cb15b",
   "metadata": {},
   "outputs": [],
   "source": [
    "PARAM_SFC = [\"10u\", \"10v\", \"2d\", \"2t\", \"msl\", \"skt\", \"sp\", \"tcw\", \"lsm\", \"z\", \"slor\", \"sdor\"]\n",
    "PARAM_SOIL =[\"vsw\",\"sot\"]\n",
    "PARAM_PL = [\"gh\", \"t\", \"u\", \"v\", \"w\", \"q\"]\n",
    "LEVELS = [1000, 925, 850, 700, 600, 500, 400, 300, 250, 200, 150, 100, 50]\n",
    "SOIL_LEVELS = [1,2]"
   ]
  },
  {
   "cell_type": "code",
   "execution_count": null,
   "id": "c3e868e5-b6e0-4cb7-8e2f-c79ea7fa3f6d",
   "metadata": {},
   "outputs": [],
   "source": [
    "DATE = OpendataClient().latest()"
   ]
  },
  {
   "cell_type": "code",
   "execution_count": null,
   "id": "42f55733-3f1e-4bb2-9a4d-aa31783a7406",
   "metadata": {},
   "outputs": [],
   "source": [
    "print(\"Initial date is\", DATE)"
   ]
  },
  {
   "cell_type": "code",
   "execution_count": null,
   "id": "5ea09c86-c649-4f01-98bd-faa4e4df5fa9",
   "metadata": {},
   "outputs": [],
   "source": [
    "def get_open_data(param, levelist=[]):\n",
    "    fields = defaultdict(list)\n",
    "    # Get the data for the current date and the previous date\n",
    "    for date in [DATE - datetime.timedelta(hours=6), DATE]:\n",
    "        data = ekd.from_source(\"ecmwf-open-data\", date=date, param=param, levelist=levelist)\n",
    "        for f in data:\n",
    "            # Open data is between -180 and 180, we need to shift it to 0-360\n",
    "            assert f.to_numpy().shape == (721,1440)\n",
    "            values = np.roll(f.to_numpy(), -f.shape[1] // 2, axis=1)\n",
    "            # Interpolate the data to from 0.25 to N320\n",
    "            values = ekr.interpolate(values, {\"grid\": (0.25, 0.25)}, {\"grid\": \"N320\"})\n",
    "            # Add the values to the list\n",
    "            name = f\"{f.metadata('param')}_{f.metadata('levelist')}\" if levelist else f.metadata(\"param\")\n",
    "            fields[name].append(values)\n",
    "\n",
    "    # Create a single matrix for each parameter\n",
    "    for param, values in fields.items():\n",
    "        fields[param] = np.stack(values)\n",
    "\n",
    "    return fields"
   ]
  },
  {
   "cell_type": "code",
   "execution_count": null,
   "id": "5427b14e-1c4b-4cf3-8076-436340ca7017",
   "metadata": {},
   "outputs": [],
   "source": [
    "fields = {}\n",
    "fields.update(get_open_data(param=PARAM_SFC))"
   ]
  },
  {
   "cell_type": "code",
   "execution_count": null,
   "id": "fdfd6dee-9b03-45ff-a663-ab7f004fd5e7",
   "metadata": {},
   "outputs": [],
   "source": [
    "soil=get_open_data(param=PARAM_SOIL,levelist=SOIL_LEVELS)"
   ]
  },
  {
   "cell_type": "code",
   "execution_count": null,
   "id": "40dbc4f6-9b3f-4e6c-846c-38762343d870",
   "metadata": {},
   "outputs": [],
   "source": [
    "mapping = {'sot_1': 'stl1', 'sot_2': 'stl2',\n",
    "           'vsw_1': 'swvl1','vsw_2': 'swvl2'}\n",
    "for k,v in soil.items():\n",
    "    fields[mapping[k]]=v"
   ]
  },
  {
   "cell_type": "code",
   "execution_count": null,
   "id": "7ecdb7e9-0dca-4578-aba9-46296c144657",
   "metadata": {},
   "outputs": [],
   "source": [
    "fields.update(get_open_data(param=PARAM_PL, levelist=LEVELS))"
   ]
  },
  {
   "cell_type": "code",
   "execution_count": null,
   "id": "4b547930-a77b-4919-b380-7ba1e56a5ed9",
   "metadata": {},
   "outputs": [],
   "source": [
    "# Transform GH to Z\n",
    "for level in LEVELS:\n",
    "    gh = fields.pop(f\"gh_{level}\")\n",
    "    fields[f\"z_{level}\"] = gh * 9.80665"
   ]
  },
  {
   "cell_type": "code",
   "execution_count": null,
   "id": "e203ffd0-4f4e-4e8e-a1ab-ad74154bcc20",
   "metadata": {},
   "outputs": [],
   "source": [
    "input_state = dict(date=DATE, fields=fields)"
   ]
  },
  {
   "cell_type": "code",
   "execution_count": null,
   "id": "09925df7-8a02-4a22-980a-7ef4088549d1",
   "metadata": {},
   "outputs": [],
   "source": [
    "checkpoint = {\"huggingface\":\"ecmwf/aifs-single-1.0\"}"
   ]
  },
  {
   "cell_type": "code",
   "execution_count": null,
   "id": "7294629c-9d69-453a-bd41-ba451803a65b",
   "metadata": {},
   "outputs": [],
   "source": [
    "runner = SimpleRunner(checkpoint, device=\"cuda\")"
   ]
  },
  {
   "cell_type": "code",
   "execution_count": null,
   "id": "c5d400b3-6cdb-4932-86b0-513199213ff8",
   "metadata": {},
   "outputs": [],
   "source": [
    "import os\n",
    "os.environ['PYTORCH_CUDA_ALLOC_CONF']='expandable_segments:True' \n",
    "os.environ['ANEMOI_INFERENCE_NUM_CHUNKS']='16'"
   ]
  },
  {
   "cell_type": "code",
   "execution_count": null,
   "id": "e90336e2-c874-4078-a5b6-8ad95afd0f26",
   "metadata": {},
   "outputs": [],
   "source": [
    "for state in runner.run(input_state=input_state, lead_time=12):\n",
    "    print_state(state)"
   ]
  },
  {
   "cell_type": "code",
   "execution_count": null,
   "id": "6ee2785e-3001-4a20-a352-5ca72556a66b",
   "metadata": {},
   "outputs": [],
   "source": [
    "import matplotlib.pyplot as plt\n",
    "import matplotlib.tri as tri"
   ]
  },
  {
   "cell_type": "code",
   "execution_count": null,
   "id": "9fb755d2-85fa-47c4-a6b9-760894d64cbd",
   "metadata": {},
   "outputs": [],
   "source": [
    "for name, a in state['fields'].items():\n",
    "    print(name, a.shape, a.dtype)"
   ]
  },
  {
   "cell_type": "code",
   "execution_count": null,
   "id": "02923836-dd1c-4684-b80d-42254073ac31",
   "metadata": {},
   "outputs": [],
   "source": [
    "def fix(lons):\n",
    "    # Shift the longitudes from 0-360 to -180-180\n",
    "    return np.where(lons > 180, lons - 360, lons)\n",
    "\n",
    "latitudes = state[\"latitudes\"]\n",
    "longitudes = state[\"longitudes\"]\n",
    "values = state[\"fields\"][\"100u\"]\n",
    "\n",
    "\n",
    "triangulation = tri.Triangulation(fix(longitudes), latitudes)\n",
    "\n",
    "fig, ax = plt.subplots(figsize=(11, 6))\n",
    "\n",
    "contour = ax.tricontourf(triangulation, values, levels=20,  cmap=\"RdBu\")\n",
    "\n"
   ]
  },
  {
   "cell_type": "code",
   "execution_count": null,
   "id": "6c7ed42f-88b9-4e93-8b42-09be2b6ef337",
   "metadata": {},
   "outputs": [],
   "source": []
  }
 ],
 "metadata": {
  "kernelspec": {
   "display_name": "Python 3 (ipykernel)",
   "language": "python",
   "name": "python3"
  },
  "language_info": {
   "codemirror_mode": {
    "name": "ipython",
    "version": 3
   },
   "file_extension": ".py",
   "mimetype": "text/x-python",
   "name": "python",
   "nbconvert_exporter": "python",
   "pygments_lexer": "ipython3",
   "version": "3.12.11"
  }
 },
 "nbformat": 4,
 "nbformat_minor": 5
}
